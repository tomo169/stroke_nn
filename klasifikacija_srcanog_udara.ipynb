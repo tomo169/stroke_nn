{
 "cells": [
  {
   "cell_type": "markdown",
   "metadata": {},
   "source": [
    "### U ovom projektu korišten je skup podataka koji sadrži informacije o pacijentima i govori nam da li je određeni pacijent imao srčani udar ili ne. \n",
    "\n",
    "### Na osnovu tih podataka gradi se neuronska mreža koja uči i predviđa je li pacijent imao srčani udar ili ne"
   ]
  },
  {
   "cell_type": "code",
   "execution_count": 15,
   "metadata": {},
   "outputs": [],
   "source": [
    "import torch\n",
    "import pandas as pd\n",
    "import numpy as np\n"
   ]
  },
  {
   "cell_type": "code",
   "execution_count": 16,
   "metadata": {},
   "outputs": [
    {
     "data": {
      "text/html": [
       "<div>\n",
       "<style scoped>\n",
       "    .dataframe tbody tr th:only-of-type {\n",
       "        vertical-align: middle;\n",
       "    }\n",
       "\n",
       "    .dataframe tbody tr th {\n",
       "        vertical-align: top;\n",
       "    }\n",
       "\n",
       "    .dataframe thead th {\n",
       "        text-align: right;\n",
       "    }\n",
       "</style>\n",
       "<table border=\"1\" class=\"dataframe\">\n",
       "  <thead>\n",
       "    <tr style=\"text-align: right;\">\n",
       "      <th></th>\n",
       "      <th>id</th>\n",
       "      <th>gender</th>\n",
       "      <th>age</th>\n",
       "      <th>hypertension</th>\n",
       "      <th>heart_disease</th>\n",
       "      <th>ever_married</th>\n",
       "      <th>work_type</th>\n",
       "      <th>Residence_type</th>\n",
       "      <th>avg_glucose_level</th>\n",
       "      <th>bmi</th>\n",
       "      <th>smoking_status</th>\n",
       "      <th>stroke</th>\n",
       "    </tr>\n",
       "  </thead>\n",
       "  <tbody>\n",
       "    <tr>\n",
       "      <th>0</th>\n",
       "      <td>9046</td>\n",
       "      <td>Male</td>\n",
       "      <td>67.0</td>\n",
       "      <td>0</td>\n",
       "      <td>1</td>\n",
       "      <td>Yes</td>\n",
       "      <td>Private</td>\n",
       "      <td>Urban</td>\n",
       "      <td>228.69</td>\n",
       "      <td>36.6</td>\n",
       "      <td>formerly smoked</td>\n",
       "      <td>1</td>\n",
       "    </tr>\n",
       "    <tr>\n",
       "      <th>1</th>\n",
       "      <td>51676</td>\n",
       "      <td>Female</td>\n",
       "      <td>61.0</td>\n",
       "      <td>0</td>\n",
       "      <td>0</td>\n",
       "      <td>Yes</td>\n",
       "      <td>Self-employed</td>\n",
       "      <td>Rural</td>\n",
       "      <td>202.21</td>\n",
       "      <td>NaN</td>\n",
       "      <td>never smoked</td>\n",
       "      <td>1</td>\n",
       "    </tr>\n",
       "    <tr>\n",
       "      <th>2</th>\n",
       "      <td>31112</td>\n",
       "      <td>Male</td>\n",
       "      <td>80.0</td>\n",
       "      <td>0</td>\n",
       "      <td>1</td>\n",
       "      <td>Yes</td>\n",
       "      <td>Private</td>\n",
       "      <td>Rural</td>\n",
       "      <td>105.92</td>\n",
       "      <td>32.5</td>\n",
       "      <td>never smoked</td>\n",
       "      <td>1</td>\n",
       "    </tr>\n",
       "    <tr>\n",
       "      <th>3</th>\n",
       "      <td>60182</td>\n",
       "      <td>Female</td>\n",
       "      <td>49.0</td>\n",
       "      <td>0</td>\n",
       "      <td>0</td>\n",
       "      <td>Yes</td>\n",
       "      <td>Private</td>\n",
       "      <td>Urban</td>\n",
       "      <td>171.23</td>\n",
       "      <td>34.4</td>\n",
       "      <td>smokes</td>\n",
       "      <td>1</td>\n",
       "    </tr>\n",
       "    <tr>\n",
       "      <th>4</th>\n",
       "      <td>1665</td>\n",
       "      <td>Female</td>\n",
       "      <td>79.0</td>\n",
       "      <td>1</td>\n",
       "      <td>0</td>\n",
       "      <td>Yes</td>\n",
       "      <td>Self-employed</td>\n",
       "      <td>Rural</td>\n",
       "      <td>174.12</td>\n",
       "      <td>24.0</td>\n",
       "      <td>never smoked</td>\n",
       "      <td>1</td>\n",
       "    </tr>\n",
       "  </tbody>\n",
       "</table>\n",
       "</div>"
      ],
      "text/plain": [
       "      id  gender   age  hypertension  heart_disease ever_married  \\\n",
       "0   9046    Male  67.0             0              1          Yes   \n",
       "1  51676  Female  61.0             0              0          Yes   \n",
       "2  31112    Male  80.0             0              1          Yes   \n",
       "3  60182  Female  49.0             0              0          Yes   \n",
       "4   1665  Female  79.0             1              0          Yes   \n",
       "\n",
       "       work_type Residence_type  avg_glucose_level   bmi   smoking_status  \\\n",
       "0        Private          Urban             228.69  36.6  formerly smoked   \n",
       "1  Self-employed          Rural             202.21   NaN     never smoked   \n",
       "2        Private          Rural             105.92  32.5     never smoked   \n",
       "3        Private          Urban             171.23  34.4           smokes   \n",
       "4  Self-employed          Rural             174.12  24.0     never smoked   \n",
       "\n",
       "   stroke  \n",
       "0       1  \n",
       "1       1  \n",
       "2       1  \n",
       "3       1  \n",
       "4       1  "
      ]
     },
     "execution_count": 16,
     "metadata": {},
     "output_type": "execute_result"
    }
   ],
   "source": [
    "# Podaci su preuzeti sa: https://www.kaggle.com/datasets/fedesoriano/stroke-prediction-dataset?resource=download\n",
    "stroke_df = pd.read_csv(\"healthcare-dataset-stroke-data.csv\")\n",
    "stroke_df.head()"
   ]
  },
  {
   "cell_type": "code",
   "execution_count": 17,
   "metadata": {},
   "outputs": [
    {
     "data": {
      "text/plain": [
       "stroke\n",
       "0    4861\n",
       "1     249\n",
       "dtype: int64"
      ]
     },
     "execution_count": 17,
     "metadata": {},
     "output_type": "execute_result"
    }
   ],
   "source": [
    "stroke_df.groupby([\"stroke\"]).size()"
   ]
  },
  {
   "cell_type": "code",
   "execution_count": 18,
   "metadata": {},
   "outputs": [
    {
     "data": {
      "text/plain": [
       "id                     0\n",
       "gender                 0\n",
       "age                    0\n",
       "hypertension           0\n",
       "heart_disease          0\n",
       "ever_married           0\n",
       "work_type              0\n",
       "Residence_type         0\n",
       "avg_glucose_level      0\n",
       "bmi                  201\n",
       "smoking_status         0\n",
       "stroke                 0\n",
       "dtype: int64"
      ]
     },
     "execution_count": 18,
     "metadata": {},
     "output_type": "execute_result"
    }
   ],
   "source": [
    "stroke_df.isna().sum()"
   ]
  },
  {
   "cell_type": "code",
   "execution_count": 19,
   "metadata": {},
   "outputs": [
    {
     "data": {
      "text/plain": [
       "28.893236911794666"
      ]
     },
     "execution_count": 19,
     "metadata": {},
     "output_type": "execute_result"
    }
   ],
   "source": [
    "stroke_df[\"bmi\"].mean()"
   ]
  },
  {
   "cell_type": "code",
   "execution_count": 20,
   "metadata": {},
   "outputs": [
    {
     "name": "stdout",
     "output_type": "stream",
     "text": [
      "<class 'pandas.core.frame.DataFrame'>\n",
      "RangeIndex: 5110 entries, 0 to 5109\n",
      "Data columns (total 12 columns):\n",
      " #   Column             Non-Null Count  Dtype  \n",
      "---  ------             --------------  -----  \n",
      " 0   id                 5110 non-null   int64  \n",
      " 1   gender             5110 non-null   object \n",
      " 2   age                5110 non-null   float64\n",
      " 3   hypertension       5110 non-null   int64  \n",
      " 4   heart_disease      5110 non-null   int64  \n",
      " 5   ever_married       5110 non-null   object \n",
      " 6   work_type          5110 non-null   object \n",
      " 7   Residence_type     5110 non-null   object \n",
      " 8   avg_glucose_level  5110 non-null   float64\n",
      " 9   bmi                5110 non-null   float64\n",
      " 10  smoking_status     5110 non-null   object \n",
      " 11  stroke             5110 non-null   int64  \n",
      "dtypes: float64(3), int64(4), object(5)\n",
      "memory usage: 479.2+ KB\n"
     ]
    }
   ],
   "source": [
    "# Popunjavanje NaN vrijednosti\n",
    "stroke_df[\"bmi\"].fillna(stroke_df[\"bmi\"].mean(), inplace=True)\n",
    "stroke_df.info()"
   ]
  },
  {
   "cell_type": "code",
   "execution_count": 21,
   "metadata": {},
   "outputs": [],
   "source": [
    "# Enkodiranje kategoričkih varijabli\n",
    "\n",
    "from sklearn.preprocessing import OneHotEncoder\n",
    "from sklearn.compose import ColumnTransformer\n",
    "from sklearn.model_selection import train_test_split\n",
    "\n",
    "X = stroke_df.drop([\"id\", \"stroke\"], axis=1)\n",
    "y = stroke_df[\"stroke\"]\n",
    "\n",
    "categorical_columns = [\"gender\", \"hypertension\", \"heart_disease\", \"ever_married\", \"work_type\", \"Residence_type\", \"smoking_status\",]\n",
    "one_hot = OneHotEncoder()\n",
    "transformer = ColumnTransformer([(\"one_hot\",\n",
    "                              one_hot,\n",
    "                              categorical_columns)],\n",
    "                              remainder=\"passthrough\")\n",
    "transformd_X = transformer.fit_transform(X)\n",
    "transformd_X\n",
    "\n",
    "# Podjela u setove za treniranje i testiranje\n",
    "X_train, X_test, y_train, y_test = train_test_split(transformd_X, y, test_size=0.2)"
   ]
  },
  {
   "cell_type": "code",
   "execution_count": 22,
   "metadata": {},
   "outputs": [],
   "source": [
    "# Skaliranje značajki da bi dobili svojstva standardne normalne distribucije \n",
    "from sklearn.preprocessing import StandardScaler\n",
    "\n",
    "scaler = StandardScaler()\n",
    "X_train = scaler.fit_transform(X_train)\n",
    "X_test = scaler.transform(X_test)\n",
    "\n",
    "# Pretvaranje pd.Series u numpy objekt\n",
    "y_train = y_train.to_numpy()\n",
    "y_test = y_test.to_numpy()"
   ]
  },
  {
   "cell_type": "code",
   "execution_count": 23,
   "metadata": {},
   "outputs": [],
   "source": [
    "# pretvaranje u PyTorch tenzore\n",
    "X_train_tensor = torch.tensor(X_train, dtype=torch.float32)\n",
    "y_train_tensor = torch.tensor(y_train, dtype=torch.float32).unsqueeze(1)\n",
    "X_test_tensor = torch.tensor(X_test, dtype=torch.float32)\n",
    "y_test_tensor = torch.tensor(y_test, dtype=torch.float32).unsqueeze(1)"
   ]
  },
  {
   "cell_type": "code",
   "execution_count": 24,
   "metadata": {},
   "outputs": [],
   "source": [
    "from torch.utils.data import DataLoader, TensorDataset\n",
    "\n",
    "train_dataset = TensorDataset(X_train_tensor, y_train_tensor)\n",
    "test_dataset = TensorDataset(X_test_tensor, y_test_tensor)\n",
    "\n",
    "train_loader = DataLoader(train_dataset, batch_size=32, shuffle=True)\n",
    "test_loader = DataLoader(test_dataset, batch_size=32, shuffle=False)"
   ]
  },
  {
   "cell_type": "code",
   "execution_count": 25,
   "metadata": {},
   "outputs": [],
   "source": [
    "# Gradnja neuronke mreže\n",
    "import torch.nn as nn\n",
    "import torch.nn.functional as F\n",
    "\n",
    "class BinaryClassificationModel(nn.Module):\n",
    "    def __init__(self, input_dim):\n",
    "        super(BinaryClassificationModel, self).__init__()\n",
    "        self.fc1 = nn.Linear(input_dim, 64)\n",
    "        self.fc2 = nn.Linear(64, 32)\n",
    "        self.fc3 = nn.Linear(32, 1)\n",
    "    \n",
    "    def forward(self, x):\n",
    "        x = F.relu(self.fc1(x))\n",
    "        x = F.relu(self.fc2(x))\n",
    "        x = torch.sigmoid(self.fc3(x))\n",
    "        return x\n",
    "\n",
    "\n",
    "input_dim = X_train.shape[1]\n",
    "model = BinaryClassificationModel(input_dim)\n",
    "criterion = nn.BCELoss()  \n",
    "optimizer = torch.optim.Adam(model.parameters(), lr=0.001)"
   ]
  },
  {
   "cell_type": "code",
   "execution_count": 26,
   "metadata": {},
   "outputs": [
    {
     "name": "stdout",
     "output_type": "stream",
     "text": [
      "Epoch 1/100, Loss: 0.31212570014758967\n",
      "Epoch 2/100, Loss: 0.1683450294076465\n",
      "Epoch 3/100, Loss: 0.16152892675017938\n",
      "Epoch 4/100, Loss: 0.15721988504810724\n",
      "Epoch 5/100, Loss: 0.15495648607611656\n",
      "Epoch 6/100, Loss: 0.1528918921831064\n",
      "Epoch 7/100, Loss: 0.15208406119199935\n",
      "Epoch 8/100, Loss: 0.1496796555875335\n",
      "Epoch 9/100, Loss: 0.1483071287511848\n",
      "Epoch 10/100, Loss: 0.14694459254678804\n",
      "Epoch 11/100, Loss: 0.1465168381400872\n",
      "Epoch 12/100, Loss: 0.14491285663098097\n",
      "Epoch 13/100, Loss: 0.14557859582419042\n",
      "Epoch 14/100, Loss: 0.14321434503654018\n",
      "Epoch 15/100, Loss: 0.1423710950257373\n",
      "Epoch 16/100, Loss: 0.14185555739095435\n",
      "Epoch 17/100, Loss: 0.140522708374192\n",
      "Epoch 18/100, Loss: 0.13948870956664905\n",
      "Epoch 19/100, Loss: 0.13919566036202013\n",
      "Epoch 20/100, Loss: 0.1378356729983352\n",
      "Epoch 21/100, Loss: 0.1369039027558756\n",
      "Epoch 22/100, Loss: 0.13628718953987118\n",
      "Epoch 23/100, Loss: 0.13380193621560466\n",
      "Epoch 24/100, Loss: 0.13413939860765822\n",
      "Epoch 25/100, Loss: 0.13222299216431566\n",
      "Epoch 26/100, Loss: 0.1310087028250564\n",
      "Epoch 27/100, Loss: 0.13028766742354492\n",
      "Epoch 28/100, Loss: 0.12930232180224266\n",
      "Epoch 29/100, Loss: 0.12848141566792037\n",
      "Epoch 30/100, Loss: 0.12656668844283558\n",
      "Epoch 31/100, Loss: 0.12678851615055464\n",
      "Epoch 32/100, Loss: 0.12454956612782553\n",
      "Epoch 33/100, Loss: 0.12462091032648459\n",
      "Epoch 34/100, Loss: 0.12288825544237625\n",
      "Epoch 35/100, Loss: 0.12225757959095063\n",
      "Epoch 36/100, Loss: 0.1209334446612047\n",
      "Epoch 37/100, Loss: 0.12071521693724208\n",
      "Epoch 38/100, Loss: 0.11889617724955315\n",
      "Epoch 39/100, Loss: 0.1201100444959593\n",
      "Epoch 40/100, Loss: 0.117407584679313\n",
      "Epoch 41/100, Loss: 0.11678280433261534\n",
      "Epoch 42/100, Loss: 0.11562390796461841\n",
      "Epoch 43/100, Loss: 0.11504552167025395\n",
      "Epoch 44/100, Loss: 0.11399607639759779\n",
      "Epoch 45/100, Loss: 0.11248531196906697\n",
      "Epoch 46/100, Loss: 0.11212244609487243\n",
      "Epoch 47/100, Loss: 0.11129816163156647\n",
      "Epoch 48/100, Loss: 0.11038957415439654\n",
      "Epoch 49/100, Loss: 0.10890677457064157\n",
      "Epoch 50/100, Loss: 0.10872903321433114\n",
      "Epoch 51/100, Loss: 0.10874439438339323\n",
      "Epoch 52/100, Loss: 0.10664404385170201\n",
      "Epoch 53/100, Loss: 0.10605571101768874\n",
      "Epoch 54/100, Loss: 0.10614069059374742\n",
      "Epoch 55/100, Loss: 0.10456088447244838\n",
      "Epoch 56/100, Loss: 0.10353360043518478\n",
      "Epoch 57/100, Loss: 0.10366330618853681\n",
      "Epoch 58/100, Loss: 0.10301289553171955\n",
      "Epoch 59/100, Loss: 0.10183382641480421\n",
      "Epoch 60/100, Loss: 0.10188258569542086\n",
      "Epoch 61/100, Loss: 0.09995569304737728\n",
      "Epoch 62/100, Loss: 0.09890559854829917\n",
      "Epoch 63/100, Loss: 0.0984818014294433\n",
      "Epoch 64/100, Loss: 0.09837465945747681\n",
      "Epoch 65/100, Loss: 0.09887780341523467\n",
      "Epoch 66/100, Loss: 0.09626138249586802\n",
      "Epoch 67/100, Loss: 0.0966721383301774\n",
      "Epoch 68/100, Loss: 0.09531707536370959\n",
      "Epoch 69/100, Loss: 0.09406953379220795\n",
      "Epoch 70/100, Loss: 0.0942705442357692\n",
      "Epoch 71/100, Loss: 0.09271094137511682\n",
      "Epoch 72/100, Loss: 0.09297871737362584\n",
      "Epoch 73/100, Loss: 0.09125294947443763\n",
      "Epoch 74/100, Loss: 0.09116691406597965\n",
      "Epoch 75/100, Loss: 0.09010217489412753\n",
      "Epoch 76/100, Loss: 0.09055745406294591\n",
      "Epoch 77/100, Loss: 0.08891208795830607\n",
      "Epoch 78/100, Loss: 0.09016160760074854\n",
      "Epoch 79/100, Loss: 0.08886770110984799\n",
      "Epoch 80/100, Loss: 0.0869431226492452\n",
      "Epoch 81/100, Loss: 0.08614363812375814\n",
      "Epoch 82/100, Loss: 0.08763619718229165\n",
      "Epoch 83/100, Loss: 0.08667422552389326\n",
      "Epoch 84/100, Loss: 0.08400902714492986\n",
      "Epoch 85/100, Loss: 0.08501562022502185\n",
      "Epoch 86/100, Loss: 0.08389809066284215\n",
      "Epoch 87/100, Loss: 0.0835948442472727\n",
      "Epoch 88/100, Loss: 0.08426187909935834\n",
      "Epoch 89/100, Loss: 0.08341420131910127\n",
      "Epoch 90/100, Loss: 0.08187501059001079\n",
      "Epoch 91/100, Loss: 0.08155952164088376\n",
      "Epoch 92/100, Loss: 0.08077748980576871\n",
      "Epoch 93/100, Loss: 0.07984616342218942\n",
      "Epoch 94/100, Loss: 0.07982711106160423\n",
      "Epoch 95/100, Loss: 0.07874004307814175\n",
      "Epoch 96/100, Loss: 0.07833304748055525\n",
      "Epoch 97/100, Loss: 0.07714711347944103\n",
      "Epoch 98/100, Loss: 0.07790614015539177\n",
      "Epoch 99/100, Loss: 0.07766755609191023\n",
      "Epoch 100/100, Loss: 0.07670113648055121\n"
     ]
    }
   ],
   "source": [
    "# Treniranje modela \n",
    "epochs = 100\n",
    "for epoch in range(epochs):\n",
    "    model.train()\n",
    "    running_loss = 0.0\n",
    "    for inputs, labels in train_loader:\n",
    "        optimizer.zero_grad()\n",
    "        outputs = model(inputs)\n",
    "        loss = criterion(outputs, labels)\n",
    "        loss.backward()\n",
    "        optimizer.step()\n",
    "        running_loss += loss.item()\n",
    "    \n",
    "    print(f'Epoch {epoch+1}/{epochs}, Loss: {running_loss/len(train_loader)}')"
   ]
  },
  {
   "cell_type": "code",
   "execution_count": 27,
   "metadata": {},
   "outputs": [
    {
     "name": "stdout",
     "output_type": "stream",
     "text": [
      "Test Accuracy: 93.84%\n"
     ]
    }
   ],
   "source": [
    "# Evaulacija modela\n",
    "model.eval()\n",
    "with torch.no_grad():\n",
    "    correct = 0\n",
    "    total = 0\n",
    "    for inputs, labels in test_loader:\n",
    "        outputs = model(inputs)\n",
    "        predicted = (outputs > 0.5).float()\n",
    "        total += labels.size(0)\n",
    "        correct += (predicted == labels).sum().item()\n",
    "    \n",
    "    accuracy = correct / total\n",
    "    print(f'Test Accuracy: {accuracy * 100:.2f}%')"
   ]
  },
  {
   "cell_type": "code",
   "execution_count": 28,
   "metadata": {},
   "outputs": [
    {
     "name": "stdout",
     "output_type": "stream",
     "text": [
      "              precision    recall  f1-score   support\n",
      "\n",
      "     Class 0       0.97      0.97      0.97       979\n",
      "     Class 1       0.24      0.21      0.22        43\n",
      "\n",
      "    accuracy                           0.94      1022\n",
      "   macro avg       0.60      0.59      0.60      1022\n",
      "weighted avg       0.93      0.94      0.94      1022\n",
      "\n"
     ]
    }
   ],
   "source": [
    "from sklearn.metrics import classification_report\n",
    "\n",
    "\n",
    "model.eval()  \n",
    "\n",
    "all_labels = []\n",
    "all_predictions = []\n",
    "\n",
    "with torch.no_grad():\n",
    "    for inputs, labels in test_loader:\n",
    "        outputs = model(inputs)\n",
    "        predicted = (outputs > 0.5).float()  \n",
    "        all_labels.extend(labels.cpu().numpy()) \n",
    "        all_predictions.extend(predicted.cpu().numpy()) \n",
    "\n",
    "\n",
    "report = classification_report(all_labels, all_predictions, target_names=['Class 0', 'Class 1'])\n",
    "print(report)"
   ]
  },
  {
   "cell_type": "code",
   "execution_count": null,
   "metadata": {},
   "outputs": [],
   "source": []
  }
 ],
 "metadata": {
  "kernelspec": {
   "display_name": "Python 3",
   "language": "python",
   "name": "python3"
  },
  "language_info": {
   "codemirror_mode": {
    "name": "ipython",
    "version": 3
   },
   "file_extension": ".py",
   "mimetype": "text/x-python",
   "name": "python",
   "nbconvert_exporter": "python",
   "pygments_lexer": "ipython3",
   "version": "3.10.13"
  }
 },
 "nbformat": 4,
 "nbformat_minor": 2
}
